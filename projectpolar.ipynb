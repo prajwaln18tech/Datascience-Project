{
  "nbformat": 4,
  "nbformat_minor": 0,
  "metadata": {
    "colab": {
      "provenance": []
    },
    "kernelspec": {
      "name": "python3",
      "display_name": "Python 3"
    },
    "language_info": {
      "name": "python"
    }
  },
  "cells": [
    {
      "cell_type": "markdown",
      "source": [
        "## **POLARS for Python**"
      ],
      "metadata": {
        "id": "gPyLia6m2Gfr"
      }
    },
    {
      "cell_type": "markdown",
      "source": [
        "###**Installation**\n",
        "First, install Polars using pip:"
      ],
      "metadata": {
        "id": "nllFWMws2YbZ"
      }
    },
    {
      "cell_type": "code",
      "source": [
        "pip install polars\n"
      ],
      "metadata": {
        "colab": {
          "base_uri": "https://localhost:8080/"
        },
        "id": "_kBADQCa2poT",
        "outputId": "c7cc108a-901a-4a6a-9b82-ad004a5f5a86"
      },
      "execution_count": 1,
      "outputs": [
        {
          "output_type": "stream",
          "name": "stdout",
          "text": [
            "Requirement already satisfied: polars in /usr/local/lib/python3.10/dist-packages (1.9.0)\n"
          ]
        }
      ]
    },
    {
      "cell_type": "markdown",
      "source": [
        "Basic Usage"
      ],
      "metadata": {
        "id": "jfj3ck-H2rcX"
      }
    },
    {
      "cell_type": "markdown",
      "source": [
        "**1. Importing Polars**"
      ],
      "metadata": {
        "id": "mq7755FI2yn6"
      }
    },
    {
      "cell_type": "code",
      "source": [
        "import polars as pl\n"
      ],
      "metadata": {
        "id": "z565x5ew22MH"
      },
      "execution_count": 2,
      "outputs": []
    },
    {
      "cell_type": "markdown",
      "source": [
        "**2. Creating a DataFrame**\n",
        "\n",
        "   From a dictionary:"
      ],
      "metadata": {
        "id": "IkYYqEmr25rp"
      }
    },
    {
      "cell_type": "code",
      "source": [
        "data = {\n",
        "    \"name\": [\"Prajwal\", \"Sai \", \"Chintu\"],\n",
        "    \"age\": [25, 30, 35],\n",
        "    \"city\": [\"New York\", \"Los Angeles\", \"Chicago\"]\n",
        "}\n",
        "\n",
        "df = pl.DataFrame(data)\n",
        "print(df)\n"
      ],
      "metadata": {
        "colab": {
          "base_uri": "https://localhost:8080/"
        },
        "id": "fIWYzBwO3Beg",
        "outputId": "ad2b2233-81ee-4bd7-ad6b-c75b32f2f465"
      },
      "execution_count": 3,
      "outputs": [
        {
          "output_type": "stream",
          "name": "stdout",
          "text": [
            "shape: (3, 3)\n",
            "┌─────────┬─────┬─────────────┐\n",
            "│ name    ┆ age ┆ city        │\n",
            "│ ---     ┆ --- ┆ ---         │\n",
            "│ str     ┆ i64 ┆ str         │\n",
            "╞═════════╪═════╪═════════════╡\n",
            "│ Prajwal ┆ 25  ┆ New York    │\n",
            "│ Sai     ┆ 30  ┆ Los Angeles │\n",
            "│ Chintu  ┆ 35  ┆ Chicago     │\n",
            "└─────────┴─────┴─────────────┘\n"
          ]
        }
      ]
    },
    {
      "cell_type": "markdown",
      "source": [
        "**3**. **Accessing and Modifying Data**\n",
        "   \n",
        "      Accessing Columns:"
      ],
      "metadata": {
        "id": "PcI3vlov4TDp"
      }
    },
    {
      "cell_type": "code",
      "source": [
        "print(df[\"name\"])\n"
      ],
      "metadata": {
        "colab": {
          "base_uri": "https://localhost:8080/"
        },
        "id": "cxp9N51V4mL8",
        "outputId": "f7c0d0ea-6d72-4975-9525-2f87f09aafe8"
      },
      "execution_count": 4,
      "outputs": [
        {
          "output_type": "stream",
          "name": "stdout",
          "text": [
            "shape: (3,)\n",
            "Series: 'name' [str]\n",
            "[\n",
            "\t\"Prajwal\"\n",
            "\t\"Sai \"\n",
            "\t\"Chintu\"\n",
            "]\n"
          ]
        }
      ]
    },
    {
      "cell_type": "markdown",
      "source": [
        "**Filtering Rows:**"
      ],
      "metadata": {
        "id": "PX1AOhkS4r9h"
      }
    },
    {
      "cell_type": "code",
      "source": [
        "filtered_df = df.filter(pl.col(\"age\") > 28)\n",
        "print(filtered_df)\n"
      ],
      "metadata": {
        "colab": {
          "base_uri": "https://localhost:8080/"
        },
        "id": "lA3zK_jU4yh_",
        "outputId": "a6cb285d-435b-4d56-d6f5-dd58c7666411"
      },
      "execution_count": 5,
      "outputs": [
        {
          "output_type": "stream",
          "name": "stdout",
          "text": [
            "shape: (2, 3)\n",
            "┌────────┬─────┬─────────────┐\n",
            "│ name   ┆ age ┆ city        │\n",
            "│ ---    ┆ --- ┆ ---         │\n",
            "│ str    ┆ i64 ┆ str         │\n",
            "╞════════╪═════╪═════════════╡\n",
            "│ Sai    ┆ 30  ┆ Los Angeles │\n",
            "│ Chintu ┆ 35  ┆ Chicago     │\n",
            "└────────┴─────┴─────────────┘\n"
          ]
        }
      ]
    },
    {
      "cell_type": "markdown",
      "source": [
        "**Adding a New Column:**"
      ],
      "metadata": {
        "id": "J84VASc344_M"
      }
    },
    {
      "cell_type": "code",
      "source": [
        "df = df.with_columns((pl.col(\"age\") * 2).alias(\"age_doubled\"))\n",
        "print(df)"
      ],
      "metadata": {
        "colab": {
          "base_uri": "https://localhost:8080/"
        },
        "id": "ryoLD07543kD",
        "outputId": "428d5921-7332-4480-f045-918dbbd47027"
      },
      "execution_count": 7,
      "outputs": [
        {
          "output_type": "stream",
          "name": "stdout",
          "text": [
            "shape: (3, 4)\n",
            "┌─────────┬─────┬─────────────┬─────────────┐\n",
            "│ name    ┆ age ┆ city        ┆ age_doubled │\n",
            "│ ---     ┆ --- ┆ ---         ┆ ---         │\n",
            "│ str     ┆ i64 ┆ str         ┆ i64         │\n",
            "╞═════════╪═════╪═════════════╪═════════════╡\n",
            "│ Prajwal ┆ 25  ┆ New York    ┆ 50          │\n",
            "│ Sai     ┆ 30  ┆ Los Angeles ┆ 60          │\n",
            "│ Chintu  ┆ 35  ┆ Chicago     ┆ 70          │\n",
            "└─────────┴─────┴─────────────┴─────────────┘\n"
          ]
        }
      ]
    },
    {
      "cell_type": "markdown",
      "source": [
        "**3. Aggregations**\n",
        "\n",
        "  **Data Used:**"
      ],
      "metadata": {
        "id": "bTnBsc105ptn"
      }
    },
    {
      "cell_type": "code",
      "source": [
        "data = {\n",
        "    \"name\": [\"Prajwal\", \"Sai \", \"Chintu\", \"Raj\"],\n",
        "    \"age\": [25, 30, 35, 40],\n",
        "    \"city\": [\"New York\", \"Los Angeles\", \"Chicago\", \"New York\"]\n",
        "}\n",
        "df = pl.DataFrame(data)\n"
      ],
      "metadata": {
        "id": "veNN6sM550VQ"
      },
      "execution_count": 10,
      "outputs": []
    },
    {
      "cell_type": "markdown",
      "source": [
        "Lazy Execution Example:\n",
        "Filter for people older than 28 and select specific columns:"
      ],
      "metadata": {
        "id": "XVqQrTQ76Vu6"
      }
    },
    {
      "cell_type": "code",
      "source": [
        "lazy_df = df.lazy()\n",
        "result = lazy_df.filter(pl.col(\"age\") > 28).select([\"name\", \"age\"]).collect()\n",
        "print(result)"
      ],
      "metadata": {
        "colab": {
          "base_uri": "https://localhost:8080/"
        },
        "id": "zkZ0LqmN6ZrH",
        "outputId": "ab6af711-1f95-4633-af23-93467549ddf9"
      },
      "execution_count": 12,
      "outputs": [
        {
          "output_type": "stream",
          "name": "stdout",
          "text": [
            "shape: (3, 2)\n",
            "┌────────┬─────┐\n",
            "│ name   ┆ age │\n",
            "│ ---    ┆ --- │\n",
            "│ str    ┆ i64 │\n",
            "╞════════╪═════╡\n",
            "│ Sai    ┆ 30  │\n",
            "│ Chintu ┆ 35  │\n",
            "│ Raj    ┆ 40  │\n",
            "└────────┴─────┘\n"
          ]
        }
      ]
    },
    {
      "cell_type": "markdown",
      "source": [
        "**5. Joining DataFrames**\n",
        "\n",
        "Data for Example: Two datasets representing user information and their corresponding scores"
      ],
      "metadata": {
        "id": "qjETq2JD6jko"
      }
    },
    {
      "cell_type": "code",
      "source": [
        "data1 = {\n",
        "    \"id\": [1, 2, 3],\n",
        "    \"name\": [\"Alice\", \"Bob\", \"Charlie\"]\n",
        "}\n",
        "data2 = {\n",
        "    \"id\": [1, 2, 4],\n",
        "    \"score\": [85, 90, 78]\n",
        "}\n",
        "df1 = pl.DataFrame(data1)\n",
        "df2 = pl.DataFrame(data2)\n"
      ],
      "metadata": {
        "id": "-xWj8Px66nVO"
      },
      "execution_count": 13,
      "outputs": []
    },
    {
      "cell_type": "markdown",
      "source": [
        "**Joining Example:**\n",
        "Perform an inner join on id:"
      ],
      "metadata": {
        "id": "ehUtC8TS6vTT"
      }
    },
    {
      "cell_type": "code",
      "source": [
        "joined_df = df1.join(df2, on=\"id\", how=\"inner\")\n",
        "print(joined_df)\n"
      ],
      "metadata": {
        "colab": {
          "base_uri": "https://localhost:8080/"
        },
        "id": "QJZrajOK6y5O",
        "outputId": "6c1954b4-e245-4cd3-80d3-3ef239b9502d"
      },
      "execution_count": 15,
      "outputs": [
        {
          "output_type": "stream",
          "name": "stdout",
          "text": [
            "shape: (2, 3)\n",
            "┌─────┬───────┬───────┐\n",
            "│ id  ┆ name  ┆ score │\n",
            "│ --- ┆ ---   ┆ ---   │\n",
            "│ i64 ┆ str   ┆ i64   │\n",
            "╞═════╪═══════╪═══════╡\n",
            "│ 1   ┆ Alice ┆ 85    │\n",
            "│ 2   ┆ Bob   ┆ 90    │\n",
            "└─────┴───────┴───────┘\n"
          ]
        }
      ]
    },
    {
      "cell_type": "markdown",
      "source": [
        "**6. Speed Test**\n",
        "\n",
        "Data Used: Generate a random dataset with 1,000,000 rows and 3 columns:"
      ],
      "metadata": {
        "id": "HyvJenDV6_9y"
      }
    },
    {
      "cell_type": "code",
      "source": [
        "import numpy as np\n",
        "data = np.random.rand(1_000_000, 3)\n",
        "print(data)\n"
      ],
      "metadata": {
        "colab": {
          "base_uri": "https://localhost:8080/"
        },
        "id": "vhgS8UNm7EEK",
        "outputId": "6be188cf-f07a-4fd3-88d8-b7f0987c6f27"
      },
      "execution_count": 17,
      "outputs": [
        {
          "output_type": "stream",
          "name": "stdout",
          "text": [
            "[[0.69200586 0.18718671 0.42158776]\n",
            " [0.69234356 0.11718933 0.61259915]\n",
            " [0.18981427 0.22334394 0.84389359]\n",
            " ...\n",
            " [0.94609367 0.66585527 0.49799427]\n",
            " [0.81659575 0.01211905 0.20724094]\n",
            " [0.35806156 0.3187708  0.62973453]]\n"
          ]
        }
      ]
    },
    {
      "cell_type": "markdown",
      "source": [
        "**Explanation**:\n",
        "\n",
        "The dataset simulates random numeric values.\n",
        "Polars and Pandas are used to calculate a new column D = A + B and the time taken for this operation is compared."
      ],
      "metadata": {
        "id": "S-bTXs1b7M9T"
      }
    },
    {
      "cell_type": "markdown",
      "source": [
        "**Polars Example:**"
      ],
      "metadata": {
        "id": "Uxnh13ka7UhY"
      }
    },
    {
      "cell_type": "code",
      "source": [
        "pl_df = pl.DataFrame({\"A\": data[:, 0], \"B\": data[:, 1], \"C\": data[:, 2]})\n",
        "pl_df = pl_df.with_columns((pl.col(\"A\") + pl.col(\"B\")).alias(\"D\"))\n",
        "print(pl_df.schema)\n",
        "print(pl_df.head(5))"
      ],
      "metadata": {
        "colab": {
          "base_uri": "https://localhost:8080/"
        },
        "id": "9poXBkHV7bwz",
        "outputId": "fe369d0a-d0fe-4c40-ce8b-be90d8b53167"
      },
      "execution_count": 19,
      "outputs": [
        {
          "output_type": "stream",
          "name": "stdout",
          "text": [
            "Schema([('A', Float64), ('B', Float64), ('C', Float64), ('D', Float64)])\n",
            "shape: (5, 4)\n",
            "┌──────────┬──────────┬──────────┬──────────┐\n",
            "│ A        ┆ B        ┆ C        ┆ D        │\n",
            "│ ---      ┆ ---      ┆ ---      ┆ ---      │\n",
            "│ f64      ┆ f64      ┆ f64      ┆ f64      │\n",
            "╞══════════╪══════════╪══════════╪══════════╡\n",
            "│ 0.692006 ┆ 0.187187 ┆ 0.421588 ┆ 0.879193 │\n",
            "│ 0.692344 ┆ 0.117189 ┆ 0.612599 ┆ 0.809533 │\n",
            "│ 0.189814 ┆ 0.223344 ┆ 0.843894 ┆ 0.413158 │\n",
            "│ 0.091907 ┆ 0.880714 ┆ 0.738227 ┆ 0.972621 │\n",
            "│ 0.244472 ┆ 0.746491 ┆ 0.532163 ┆ 0.990963 │\n",
            "└──────────┴──────────┴──────────┴──────────┘\n"
          ]
        }
      ]
    },
    {
      "cell_type": "markdown",
      "source": [
        "**Pandas Example:**"
      ],
      "metadata": {
        "id": "aOtmtje773YX"
      }
    },
    {
      "cell_type": "code",
      "source": [
        "import pandas as pd\n",
        "pd_df = pd.DataFrame(data, columns=[\"A\", \"B\", \"C\"])\n",
        "pd_df[\"D\"] = pd_df[\"A\"] + pd_df[\"B\"]\n",
        "print(pd_df)\n"
      ],
      "metadata": {
        "colab": {
          "base_uri": "https://localhost:8080/"
        },
        "id": "haSo4bza8A-_",
        "outputId": "c6598163-ed27-4a61-c8df-6783a777e3c4"
      },
      "execution_count": 21,
      "outputs": [
        {
          "output_type": "stream",
          "name": "stdout",
          "text": [
            "               A         B         C         D\n",
            "0       0.692006  0.187187  0.421588  0.879193\n",
            "1       0.692344  0.117189  0.612599  0.809533\n",
            "2       0.189814  0.223344  0.843894  0.413158\n",
            "3       0.091907  0.880714  0.738227  0.972621\n",
            "4       0.244472  0.746491  0.532163  0.990963\n",
            "...          ...       ...       ...       ...\n",
            "999995  0.686132  0.542745  0.679324  1.228877\n",
            "999996  0.346623  0.372762  0.940819  0.719384\n",
            "999997  0.946094  0.665855  0.497994  1.611949\n",
            "999998  0.816596  0.012119  0.207241  0.828715\n",
            "999999  0.358062  0.318771  0.629735  0.676832\n",
            "\n",
            "[1000000 rows x 4 columns]\n"
          ]
        }
      ]
    },
    {
      "cell_type": "code",
      "source": [
        "import time\n",
        "import pandas as pd\n",
        "import numpy as np\n",
        "\n",
        "n = 10**6\n",
        "data = {\n",
        "    \"category\": np.random.choice([\"A\", \"B\", \"C\", \"D\"], n),\n",
        "    \"values1\": np.random.rand(n) * 100,\n",
        "    \"values2\": np.random.rand(n) * 50,\n",
        "    \"timestamp\": pd.date_range(\"2022-01-01\", periods=n, freq=\"min\"),\n",
        "}\n",
        "\n",
        "df_pandas = pd.DataFrame(data)\n",
        "\n",
        "start_time = time.time()\n",
        "df_pandas_filtered = df_pandas[df_pandas[\"values1\"] > 50].copy()\n",
        "df_pandas_filtered[\"calculation\"] = df_pandas_filtered[\"values1\"] * df_pandas_filtered[\"values2\"]\n",
        "df_pandas_sorted = df_pandas_filtered.sort_values(\"calculation\", ascending=False)\n",
        "top_10_pandas = df_pandas_sorted.head(10)\n",
        "time_pandas = time.time() - start_time\n",
        "\n",
        "print(\"Pandas Result:\")\n",
        "print(top_10_pandas)\n",
        "print(f\"Pandas Execution Time: {time_pandas:.4f} seconds\")\n"
      ],
      "metadata": {
        "colab": {
          "base_uri": "https://localhost:8080/"
        },
        "id": "VL7H-Gc4CnC9",
        "outputId": "9ab1d712-9e85-454e-a00d-2a219037e162"
      },
      "execution_count": 49,
      "outputs": [
        {
          "output_type": "stream",
          "name": "stdout",
          "text": [
            "Pandas Result:\n",
            "       category    values1    values2           timestamp  calculation\n",
            "47894         B  99.939725  49.942733 2022-02-03 06:14:00  4991.262998\n",
            "298346        C  99.935400  49.928100 2022-07-27 04:26:00  4989.584576\n",
            "448491        C  99.861471  49.956653 2022-11-08 10:51:00  4988.744850\n",
            "831874        C  99.857712  49.951887 2023-08-01 16:34:00  4988.081164\n",
            "519993        C  99.924548  49.912646 2022-12-28 02:33:00  4987.498541\n",
            "793821        D  99.757910  49.975109 2023-07-06 06:21:00  4985.412447\n",
            "175209        C  99.973855  49.860019 2022-05-02 16:09:00  4984.698288\n",
            "207723        A  99.883165  49.893520 2022-05-25 06:03:00  4983.522671\n",
            "9858          C  99.637644  49.977292 2022-01-07 20:18:00  4979.619666\n",
            "248662        C  99.854399  49.866424 2022-06-22 16:22:00  4979.381760\n",
            "Pandas Execution Time: 0.1682 seconds\n"
          ]
        }
      ]
    },
    {
      "cell_type": "code",
      "source": [
        "import time\n",
        "import polars as pl\n",
        "import numpy as np\n",
        "import datetime\n",
        "\n",
        "n = 10**6\n",
        "start_date = datetime.datetime(2022, 1, 1)\n",
        "timestamps = [start_date + datetime.timedelta(seconds=i) for i in range(n)]\n",
        "\n",
        "data = {\n",
        "    \"category\": np.random.choice([\"A\", \"B\", \"C\", \"D\"], n),\n",
        "    \"values1\": np.random.rand(n) * 100,\n",
        "    \"values2\": np.random.rand(n) * 50,\n",
        "    \"timestamp\": timestamps,\n",
        "}\n",
        "\n",
        "df_polars = pl.DataFrame(data)\n",
        "\n",
        "start_time = time.time()\n",
        "df_polars_filtered = df_polars.filter(pl.col(\"values1\") > 50)\n",
        "df_polars_filtered = df_polars_filtered.with_columns(\n",
        "    (pl.col(\"values1\") * pl.col(\"values2\")).alias(\"calculation\")\n",
        ")\n",
        "df_polars_sorted = df_polars_filtered.sort(\"calculation\", descending=True)\n",
        "top_10_polars = df_polars_sorted.head(10)\n",
        "time_polars = time.time() - start_time\n",
        "\n",
        "print(\"Polars Result:\")\n",
        "print(top_10_polars)\n",
        "print(f\"Polars Execution Time: {time_polars:.4f} seconds\")\n"
      ],
      "metadata": {
        "colab": {
          "base_uri": "https://localhost:8080/"
        },
        "id": "01F8PbJzDKTd",
        "outputId": "473b0c89-52da-47f4-f0b4-ea57aec1d912"
      },
      "execution_count": 48,
      "outputs": [
        {
          "output_type": "stream",
          "name": "stdout",
          "text": [
            "Polars Result:\n",
            "shape: (10, 5)\n",
            "┌──────────┬───────────┬───────────┬─────────────────────┬─────────────┐\n",
            "│ category ┆ values1   ┆ values2   ┆ timestamp           ┆ calculation │\n",
            "│ ---      ┆ ---       ┆ ---       ┆ ---                 ┆ ---         │\n",
            "│ str      ┆ f64       ┆ f64       ┆ datetime[μs]        ┆ f64         │\n",
            "╞══════════╪═══════════╪═══════════╪═════════════════════╪═════════════╡\n",
            "│ D        ┆ 99.952524 ┆ 49.954281 ┆ 2022-01-07 23:28:56 ┆ 4993.056498 │\n",
            "│ A        ┆ 99.802331 ┆ 49.902689 ┆ 2022-01-08 19:49:38 ┆ 4980.404696 │\n",
            "│ B        ┆ 99.642364 ┆ 49.968636 ┆ 2022-01-07 07:12:27 ┆ 4978.993018 │\n",
            "│ A        ┆ 99.694202 ┆ 49.916839 ┆ 2022-01-08 17:11:12 ┆ 4976.419467 │\n",
            "│ D        ┆ 99.908425 ┆ 49.797123 ┆ 2022-01-04 02:39:12 ┆ 4975.152081 │\n",
            "│ A        ┆ 99.878176 ┆ 49.796439 ┆ 2022-01-09 20:20:38 ┆ 4973.577531 │\n",
            "│ C        ┆ 99.914491 ┆ 49.772922 ┆ 2022-01-07 01:08:34 ┆ 4973.036167 │\n",
            "│ D        ┆ 99.622423 ┆ 49.913945 ┆ 2022-01-08 05:03:14 ┆ 4972.548128 │\n",
            "│ A        ┆ 99.634877 ┆ 49.894373 ┆ 2022-01-02 08:19:15 ┆ 4971.219773 │\n",
            "│ B        ┆ 99.522357 ┆ 49.945274 ┆ 2022-01-11 03:04:04 ┆ 4970.671381 │\n",
            "└──────────┴───────────┴───────────┴─────────────────────┴─────────────┘\n",
            "Polars Execution Time: 0.1300 seconds\n"
          ]
        }
      ]
    },
    {
      "cell_type": "code",
      "source": [
        "import time\n",
        "import pandas as pd\n",
        "import numpy as np\n",
        "n = 10**6\n",
        "data = {\n",
        "    \"category\": np.random.choice([\"A\", \"B\", \"C\", \"D\"], n),\n",
        "    \"values1\": np.random.rand(n),\n",
        "    \"values2\": np.random.rand(n),\n",
        "}\n",
        "df_pandas = pd.DataFrame(data)\n",
        "start_time = time.time()\n",
        "df_pandas[\"new_col\"] = df_pandas[\"values1\"] * df_pandas[\"values2\"]\n",
        "df_pandas_filtered = df_pandas[df_pandas[\"new_col\"] > 0.5]\n",
        "\n",
        "unique_categories = df_pandas_filtered[\"category\"].unique()\n",
        "result_pandas = {\n",
        "    category: df_pandas_filtered[df_pandas_filtered[\"category\"] == category][\"new_col\"].sum()\n",
        "    for category in unique_categories\n",
        "}\n",
        "time_pandas = time.time() - start_time\n",
        "\n",
        "print(\"Pandas result:\")\n",
        "print(result_pandas)\n",
        "print(f\"Pandas Execution Time: {time_pandas:.4f} seconds\")\n"
      ],
      "metadata": {
        "colab": {
          "base_uri": "https://localhost:8080/"
        },
        "id": "AIJRhh5s8lV5",
        "outputId": "b51dc0d6-7b32-4ddc-9c3b-cfd3dfc69f20"
      },
      "execution_count": 38,
      "outputs": [
        {
          "output_type": "stream",
          "name": "stdout",
          "text": [
            "Pandas result:\n",
            "{'C': 25085.28106540176, 'A': 25088.442254234724, 'B': 25197.38407377113, 'D': 25187.522548051846}\n",
            "Pandas Execution Time: 0.0818 seconds\n"
          ]
        }
      ]
    },
    {
      "cell_type": "code",
      "source": [
        "import time\n",
        "import polars as pl\n",
        "import numpy as np\n",
        "n = 10**6\n",
        "data = {\n",
        "    \"category\": np.random.choice([\"A\", \"B\", \"C\", \"D\"], n),\n",
        "    \"values1\": np.random.rand(n),\n",
        "    \"values2\": np.random.rand(n),\n",
        "}\n",
        "df_polars = pl.DataFrame(data)\n",
        "start_time = time.time()\n",
        "df_polars = df_polars.with_columns((pl.col(\"values1\") * pl.col(\"values2\")).alias(\"new_col\"))\n",
        "df_polars_filtered = df_polars.filter(pl.col(\"new_col\") > 0.5)\n",
        "\n",
        "unique_categories = df_polars_filtered[\"category\"].unique().to_list()\n",
        "result_polars = {\n",
        "    category: df_polars_filtered.filter(pl.col(\"category\") == category)[\"new_col\"].sum()\n",
        "    for category in unique_categories\n",
        "}\n",
        "time_polars = time.time() - start_time\n",
        "print(\"Polars result:\")\n",
        "print(result_polars)\n",
        "print(f\"Polars Execution Time: {time_polars:.4f} seconds\")\n"
      ],
      "metadata": {
        "colab": {
          "base_uri": "https://localhost:8080/"
        },
        "id": "VHDTPN65AIEK",
        "outputId": "41274819-9204-481f-d0ca-1e95f03764ff"
      },
      "execution_count": 39,
      "outputs": [
        {
          "output_type": "stream",
          "name": "stdout",
          "text": [
            "Polars result:\n",
            "{'D': 25211.144867368977, 'B': 25165.529391126936, 'C': 25031.172077622952, 'A': 25217.81658587318}\n",
            "Polars Execution Time: 0.0420 seconds\n"
          ]
        }
      ]
    },
    {
      "cell_type": "code",
      "source": [
        "import matplotlib.pyplot as plt\n",
        "time_pandas = 0.0818\n",
        "time_polars = 0.0420\n",
        "labels = ['Pandas', 'Polars']\n",
        "times = [time_pandas, time_polars]\n",
        "plt.bar(labels, times, color=['blue', 'orange'])\n",
        "plt.title(\"Performance Comparison: Pandas vs Polars \")\n",
        "plt.ylabel(\"Time (seconds)\")\n",
        "plt.xlabel(\"Library\")\n",
        "plt.ylim(0, max(times) + 0.01)\n",
        "plt.show()\n"
      ],
      "metadata": {
        "colab": {
          "base_uri": "https://localhost:8080/",
          "height": 472
        },
        "id": "g7ybzgYdBfYZ",
        "outputId": "fde2672b-65db-496e-effe-adfbfd951f49"
      },
      "execution_count": 41,
      "outputs": [
        {
          "output_type": "display_data",
          "data": {
            "text/plain": [
              "<Figure size 640x480 with 1 Axes>"
            ],
            "image/png": "[encoded data removed]"
          },
          "metadata": {}
        }
      ]
    },
    {
      "cell_type": "markdown",
      "source": [
        "Execution Time:\n",
        "\n",
        "Polars completed the operation in 0.042 seconds, while Pandas took 0.0818 seconds. This shows that Polars is nearly 2x faster for the same task, demonstrating its efficiency in handling large datasets.\n",
        "Efficient Computation:\n",
        "\n",
        "Polars is written in Rust, a highly performant systems programming language, which provides faster execution times compared to Python-based Pandas.\n",
        "Polars leverages optimized columnar memory layout, ensuring efficient CPU cache utilization.\n",
        "Parallelism:\n",
        "\n",
        "Polars supports native multithreading, enabling better use of multi-core processors to perform tasks in parallel. Pandas, on the other hand, primarily operates on a single thread.\n",
        "Memory Efficiency:\n",
        "\n",
        "Polars uses the Apache Arrow memory model, which minimizes memory overhead by directly accessing data in an optimized format. This allows Polars to process large datasets more effectively without requiring excessive memory.\n",
        "Lazy Evaluation (Optional):\n",
        "\n",
        "While not used in this specific comparison, Polars' LazyFrame feature allows for deferred execution, combining multiple operations into a single optimized pipeline. This can further enhance performance in more complex workflows."
      ],
      "metadata": {
        "id": "_bImirPQB0Wq"
      }
    }
  ]
}